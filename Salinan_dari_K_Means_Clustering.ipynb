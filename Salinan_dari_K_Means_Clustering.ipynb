{
  "nbformat": 4,
  "nbformat_minor": 0,
  "metadata": {
    "colab": {
      "provenance": []
    },
    "kernelspec": {
      "name": "python3",
      "display_name": "Python 3"
    },
    "language_info": {
      "name": "python"
    }
  },
  "cells": [
    {
      "cell_type": "code",
      "source": [
        "import matplotlib as plt\n",
        "from sklearn.datasets import make_blobs\n",
        "from sklearn.cluster import KMeans\n",
        "from sklearn.metrics import silhouette_score\n",
        "from sklearn.preprocessing import StandardScaler"
      ],
      "metadata": {
        "id": "S6ePUqDTGwHm"
      },
      "execution_count": null,
      "outputs": []
    },
    {
      "cell_type": "code",
      "source": [
        "features, true_label = make_blobs(\n",
        "    n_samples=260,\n",
        "    centers=5,\n",
        "    cluster_std=26,\n",
        "    random_state=42\n",
        ")"
      ],
      "metadata": {
        "id": "nkPblt_CGxB_"
      },
      "execution_count": null,
      "outputs": []
    },
    {
      "cell_type": "code",
      "source": [
        "features[:10]"
      ],
      "metadata": {
        "colab": {
          "base_uri": "https://localhost:8080/"
        },
        "id": "9QCDzpecHyL3",
        "outputId": "0f690aa4-485d-4178-aaf1-0a9be729fbac"
      },
      "execution_count": null,
      "outputs": [
        {
          "output_type": "execute_result",
          "data": {
            "text/plain": [
              "array([[ 31.49162361,  10.33106341],\n",
              "       [-11.33823962, -23.37810001],\n",
              "       [ 19.48303211,  31.49787633],\n",
              "       [ 18.21035954,   9.69477119],\n",
              "       [  7.23081433, -11.11719732],\n",
              "       [-47.35706127,  -5.60518963],\n",
              "       [  5.18992958,  15.8017232 ],\n",
              "       [ 53.15001613,  14.29282563],\n",
              "       [ 48.86291913,   9.60178499],\n",
              "       [ 21.82711538,  -4.87504404]])"
            ]
          },
          "metadata": {},
          "execution_count": 45
        }
      ]
    },
    {
      "cell_type": "code",
      "source": [
        "true_label[:200]"
      ],
      "metadata": {
        "id": "agqrrSs7H4VM",
        "colab": {
          "base_uri": "https://localhost:8080/"
        },
        "outputId": "939e5ca2-8ed0-4e3d-876f-312c6fb765a0"
      },
      "execution_count": null,
      "outputs": [
        {
          "output_type": "execute_result",
          "data": {
            "text/plain": [
              "array([3, 4, 1, 1, 1, 0, 0, 1, 2, 3, 4, 4, 4, 1, 4, 4, 3, 2, 3, 0, 4, 3,\n",
              "       1, 0, 1, 2, 1, 3, 1, 0, 4, 1, 1, 4, 3, 4, 1, 0, 2, 0, 2, 0, 4, 3,\n",
              "       3, 0, 2, 1, 4, 0, 0, 2, 4, 1, 0, 2, 0, 0, 0, 2, 1, 4, 0, 1, 1, 3,\n",
              "       2, 3, 1, 0, 2, 4, 3, 4, 2, 1, 1, 3, 4, 2, 1, 1, 2, 0, 2, 3, 2, 3,\n",
              "       4, 0, 3, 3, 0, 0, 4, 0, 1, 4, 4, 4, 4, 4, 4, 2, 3, 3, 3, 3, 1, 4,\n",
              "       2, 4, 4, 0, 2, 0, 4, 4, 3, 3, 0, 2, 3, 2, 3, 0, 4, 0, 0, 0, 0, 2,\n",
              "       4, 4, 4, 1, 4, 2, 2, 3, 2, 4, 2, 2, 2, 3, 1, 3, 3, 4, 1, 1, 3, 3,\n",
              "       4, 2, 0, 3, 2, 0, 3, 2, 1, 4, 3, 3, 3, 1, 2, 2, 4, 4, 0, 1, 3, 2,\n",
              "       0, 3, 1, 0, 3, 3, 2, 3, 0, 1, 2, 4, 2, 4, 2, 1, 4, 3, 4, 0, 3, 0,\n",
              "       2, 0])"
            ]
          },
          "metadata": {},
          "execution_count": 46
        }
      ]
    },
    {
      "cell_type": "code",
      "source": [
        "standard_skala = StandardScaler()\n",
        "skala_fitur = standard_skala.fit_transform(features)"
      ],
      "metadata": {
        "id": "TwN5RrbbI2aJ"
      },
      "execution_count": null,
      "outputs": []
    },
    {
      "cell_type": "code",
      "source": [
        "skala_fitur[:10]"
      ],
      "metadata": {
        "colab": {
          "base_uri": "https://localhost:8080/"
        },
        "id": "yXpt4mI4Oyf8",
        "outputId": "262cd110-2187-40e3-9b5c-8fe581f220ea"
      },
      "execution_count": null,
      "outputs": [
        {
          "output_type": "execute_result",
          "data": {
            "text/plain": [
              "array([[ 1.33720454,  0.27917582],\n",
              "       [-0.31700672, -1.02687194],\n",
              "       [ 0.87339854,  1.09927534],\n",
              "       [ 0.82424431,  0.25452294],\n",
              "       [ 0.40018301, -0.55182828],\n",
              "       [-1.70815617, -0.33826779],\n",
              "       [ 0.32135823,  0.4911343 ],\n",
              "       [ 2.17371332,  0.43267268],\n",
              "       [ 2.00813343,  0.25092023],\n",
              "       [ 0.96393371, -0.3099786 ]])"
            ]
          },
          "metadata": {},
          "execution_count": 48
        }
      ]
    },
    {
      "cell_type": "code",
      "source": [
        "metode_kmeans = KMeans(\n",
        "    init=\"random\",\n",
        "    n_clusters=5,\n",
        "    n_init=10,\n",
        "    max_iter=100,\n",
        "    random_state=41\n",
        "    )"
      ],
      "metadata": {
        "id": "5lWkbEx6PDq_"
      },
      "execution_count": null,
      "outputs": []
    },
    {
      "cell_type": "code",
      "source": [
        "metode_kmeans.fit(skala_fitur)"
      ],
      "metadata": {
        "colab": {
          "base_uri": "https://localhost:8080/",
          "height": 75
        },
        "id": "ZmyPuP06R2Gc",
        "outputId": "550341c8-e13c-4115-b68c-84270a2ad4a9"
      },
      "execution_count": null,
      "outputs": [
        {
          "output_type": "execute_result",
          "data": {
            "text/plain": [
              "KMeans(init='random', max_iter=100, n_clusters=5, n_init=10, random_state=41)"
            ],
            "text/html": [
              "<style>#sk-container-id-4 {color: black;background-color: white;}#sk-container-id-4 pre{padding: 0;}#sk-container-id-4 div.sk-toggleable {background-color: white;}#sk-container-id-4 label.sk-toggleable__label {cursor: pointer;display: block;width: 100%;margin-bottom: 0;padding: 0.3em;box-sizing: border-box;text-align: center;}#sk-container-id-4 label.sk-toggleable__label-arrow:before {content: \"▸\";float: left;margin-right: 0.25em;color: #696969;}#sk-container-id-4 label.sk-toggleable__label-arrow:hover:before {color: black;}#sk-container-id-4 div.sk-estimator:hover label.sk-toggleable__label-arrow:before {color: black;}#sk-container-id-4 div.sk-toggleable__content {max-height: 0;max-width: 0;overflow: hidden;text-align: left;background-color: #f0f8ff;}#sk-container-id-4 div.sk-toggleable__content pre {margin: 0.2em;color: black;border-radius: 0.25em;background-color: #f0f8ff;}#sk-container-id-4 input.sk-toggleable__control:checked~div.sk-toggleable__content {max-height: 200px;max-width: 100%;overflow: auto;}#sk-container-id-4 input.sk-toggleable__control:checked~label.sk-toggleable__label-arrow:before {content: \"▾\";}#sk-container-id-4 div.sk-estimator input.sk-toggleable__control:checked~label.sk-toggleable__label {background-color: #d4ebff;}#sk-container-id-4 div.sk-label input.sk-toggleable__control:checked~label.sk-toggleable__label {background-color: #d4ebff;}#sk-container-id-4 input.sk-hidden--visually {border: 0;clip: rect(1px 1px 1px 1px);clip: rect(1px, 1px, 1px, 1px);height: 1px;margin: -1px;overflow: hidden;padding: 0;position: absolute;width: 1px;}#sk-container-id-4 div.sk-estimator {font-family: monospace;background-color: #f0f8ff;border: 1px dotted black;border-radius: 0.25em;box-sizing: border-box;margin-bottom: 0.5em;}#sk-container-id-4 div.sk-estimator:hover {background-color: #d4ebff;}#sk-container-id-4 div.sk-parallel-item::after {content: \"\";width: 100%;border-bottom: 1px solid gray;flex-grow: 1;}#sk-container-id-4 div.sk-label:hover label.sk-toggleable__label {background-color: #d4ebff;}#sk-container-id-4 div.sk-serial::before {content: \"\";position: absolute;border-left: 1px solid gray;box-sizing: border-box;top: 0;bottom: 0;left: 50%;z-index: 0;}#sk-container-id-4 div.sk-serial {display: flex;flex-direction: column;align-items: center;background-color: white;padding-right: 0.2em;padding-left: 0.2em;position: relative;}#sk-container-id-4 div.sk-item {position: relative;z-index: 1;}#sk-container-id-4 div.sk-parallel {display: flex;align-items: stretch;justify-content: center;background-color: white;position: relative;}#sk-container-id-4 div.sk-item::before, #sk-container-id-4 div.sk-parallel-item::before {content: \"\";position: absolute;border-left: 1px solid gray;box-sizing: border-box;top: 0;bottom: 0;left: 50%;z-index: -1;}#sk-container-id-4 div.sk-parallel-item {display: flex;flex-direction: column;z-index: 1;position: relative;background-color: white;}#sk-container-id-4 div.sk-parallel-item:first-child::after {align-self: flex-end;width: 50%;}#sk-container-id-4 div.sk-parallel-item:last-child::after {align-self: flex-start;width: 50%;}#sk-container-id-4 div.sk-parallel-item:only-child::after {width: 0;}#sk-container-id-4 div.sk-dashed-wrapped {border: 1px dashed gray;margin: 0 0.4em 0.5em 0.4em;box-sizing: border-box;padding-bottom: 0.4em;background-color: white;}#sk-container-id-4 div.sk-label label {font-family: monospace;font-weight: bold;display: inline-block;line-height: 1.2em;}#sk-container-id-4 div.sk-label-container {text-align: center;}#sk-container-id-4 div.sk-container {/* jupyter's `normalize.less` sets `[hidden] { display: none; }` but bootstrap.min.css set `[hidden] { display: none !important; }` so we also need the `!important` here to be able to override the default hidden behavior on the sphinx rendered scikit-learn.org. See: https://github.com/scikit-learn/scikit-learn/issues/21755 */display: inline-block !important;position: relative;}#sk-container-id-4 div.sk-text-repr-fallback {display: none;}</style><div id=\"sk-container-id-4\" class=\"sk-top-container\"><div class=\"sk-text-repr-fallback\"><pre>KMeans(init=&#x27;random&#x27;, max_iter=100, n_clusters=5, n_init=10, random_state=41)</pre><b>In a Jupyter environment, please rerun this cell to show the HTML representation or trust the notebook. <br />On GitHub, the HTML representation is unable to render, please try loading this page with nbviewer.org.</b></div><div class=\"sk-container\" hidden><div class=\"sk-item\"><div class=\"sk-estimator sk-toggleable\"><input class=\"sk-toggleable__control sk-hidden--visually\" id=\"sk-estimator-id-4\" type=\"checkbox\" checked><label for=\"sk-estimator-id-4\" class=\"sk-toggleable__label sk-toggleable__label-arrow\">KMeans</label><div class=\"sk-toggleable__content\"><pre>KMeans(init=&#x27;random&#x27;, max_iter=100, n_clusters=5, n_init=10, random_state=41)</pre></div></div></div></div></div>"
            ]
          },
          "metadata": {},
          "execution_count": 50
        }
      ]
    },
    {
      "cell_type": "code",
      "source": [
        "metode_kmeans.inertia_"
      ],
      "metadata": {
        "id": "b3JVLMkcSNaE",
        "colab": {
          "base_uri": "https://localhost:8080/"
        },
        "outputId": "c2a2650d-ba1c-49a8-c58f-ad5a7c5b04e9"
      },
      "execution_count": null,
      "outputs": [
        {
          "output_type": "execute_result",
          "data": {
            "text/plain": [
              "150.89452304681427"
            ]
          },
          "metadata": {},
          "execution_count": 51
        }
      ]
    },
    {
      "cell_type": "code",
      "source": [
        "metode_kmeans.cluster_centers_"
      ],
      "metadata": {
        "colab": {
          "base_uri": "https://localhost:8080/"
        },
        "id": "3evacVnUUMR5",
        "outputId": "93717358-9d9f-446d-e097-3e2bb0483ee3"
      },
      "execution_count": null,
      "outputs": [
        {
          "output_type": "execute_result",
          "data": {
            "text/plain": [
              "array([[ 1.3743414 , -1.3572457 ],\n",
              "       [ 1.02876963,  0.35567156],\n",
              "       [-0.03935244,  1.31306561],\n",
              "       [-1.14707109,  0.11600895],\n",
              "       [-0.14760082, -0.91961978]])"
            ]
          },
          "metadata": {},
          "execution_count": 52
        }
      ]
    },
    {
      "cell_type": "code",
      "source": [
        "metode_kmeans.n_iter_"
      ],
      "metadata": {
        "colab": {
          "base_uri": "https://localhost:8080/"
        },
        "id": "NoWHmBQaURp2",
        "outputId": "ed61c53f-3045-45c1-a023-9ce11aa8b257"
      },
      "execution_count": null,
      "outputs": [
        {
          "output_type": "execute_result",
          "data": {
            "text/plain": [
              "14"
            ]
          },
          "metadata": {},
          "execution_count": 53
        }
      ]
    },
    {
      "cell_type": "code",
      "source": [
        "metode_kmeans.labels_"
      ],
      "metadata": {
        "colab": {
          "base_uri": "https://localhost:8080/"
        },
        "id": "SJNbkGhEWQRQ",
        "outputId": "91d100e1-2272-40b2-ad2e-064bb66db007"
      },
      "execution_count": null,
      "outputs": [
        {
          "output_type": "execute_result",
          "data": {
            "text/plain": [
              "array([1, 4, 1, 1, 4, 3, 1, 1, 1, 1, 4, 4, 2, 2, 3, 1, 3, 3, 2, 3, 4, 2,\n",
              "       2, 3, 0, 3, 2, 2, 4, 4, 3, 4, 1, 2, 3, 4, 1, 4, 3, 4, 4, 1, 2, 4,\n",
              "       3, 1, 1, 0, 1, 1, 4, 3, 1, 1, 3, 3, 4, 1, 4, 3, 3, 4, 3, 4, 1, 3,\n",
              "       4, 1, 4, 3, 1, 4, 3, 4, 3, 4, 4, 3, 4, 0, 0, 1, 3, 4, 3, 2, 3, 4,\n",
              "       4, 2, 2, 2, 2, 1, 4, 4, 2, 1, 2, 1, 1, 4, 0, 4, 3, 4, 1, 0, 4, 3,\n",
              "       1, 3, 0, 2, 0, 4, 2, 4, 1, 4, 4, 4, 4, 4, 3, 2, 4, 3, 3, 2, 4, 3,\n",
              "       2, 1, 3, 3, 3, 4, 4, 1, 3, 3, 4, 4, 1, 3, 4, 1, 2, 1, 0, 2, 2, 4,\n",
              "       4, 4, 2, 2, 3, 4, 1, 4, 2, 4, 1, 3, 1, 2, 1, 1, 1, 2, 2, 1, 4, 0,\n",
              "       2, 3, 2, 3, 2, 1, 1, 0, 2, 2, 0, 3, 1, 3, 1, 1, 4, 3, 2, 2, 4, 0,\n",
              "       3, 3, 1, 4, 1, 4, 0, 2, 1, 4, 4, 3, 4, 2, 3, 4, 3, 0, 3, 3, 3, 1,\n",
              "       2, 3, 1, 4, 0, 2, 3, 3, 3, 1, 3, 2, 3, 4, 1, 4, 4, 4, 0, 2, 0, 4,\n",
              "       3, 3, 2, 3, 2, 4, 1, 3, 1, 0, 1, 2, 1, 2, 4, 1, 2, 3], dtype=int32)"
            ]
          },
          "metadata": {},
          "execution_count": 54
        }
      ]
    },
    {
      "cell_type": "code",
      "source": [
        "import numpy as np\n",
        "import matplotlib.pyplot as plt\n",
        "import pandas as pd\n",
        "\n"
      ],
      "metadata": {
        "id": "zjyCAIU6Wxmt"
      },
      "execution_count": null,
      "outputs": []
    },
    {
      "cell_type": "code",
      "source": [],
      "metadata": {
        "id": "DvBn2AwbZbSb"
      },
      "execution_count": null,
      "outputs": []
    },
    {
      "cell_type": "code",
      "source": [
        "\n",
        "color = np.array([\"Red\",\"Green\",\"Blue\",\"yellow\",\"brown\"])\n",
        "plt.subplot(1,2,2)\n",
        "plt.scatter(skala_fitur[:,0], skala_fitur[:,1], s=50, alpha=1, cmap='viridis', c=color[metode_kmeans.labels_])\n"
      ],
      "metadata": {
        "colab": {
          "base_uri": "https://localhost:8080/",
          "height": 482
        },
        "id": "tJyWKlbxZmqa",
        "outputId": "dbe2d4f6-24a6-4953-b55e-83c935892269"
      },
      "execution_count": null,
      "outputs": [
        {
          "output_type": "stream",
          "name": "stderr",
          "text": [
            "<ipython-input-56-860e6561b51d>:3: UserWarning: No data for colormapping provided via 'c'. Parameters 'cmap' will be ignored\n",
            "  plt.scatter(skala_fitur[:,0], skala_fitur[:,1], s=50, alpha=1, cmap='viridis', c=color[metode_kmeans.labels_])\n"
          ]
        },
        {
          "output_type": "execute_result",
          "data": {
            "text/plain": [
              "<matplotlib.collections.PathCollection at 0x7ee7d041c8e0>"
            ]
          },
          "metadata": {},
          "execution_count": 56
        },
        {
          "output_type": "display_data",
          "data": {
            "text/plain": [
              "<Figure size 640x480 with 1 Axes>"
            ],
            "image/png": "[encoded data removed]"
          },
          "metadata": {}
        }
      ]
    },
    {
      "cell_type": "code",
      "source": [],
      "metadata": {
        "id": "uoAIyQgVIubc"
      },
      "execution_count": null,
      "outputs": []
    }
  ]
}